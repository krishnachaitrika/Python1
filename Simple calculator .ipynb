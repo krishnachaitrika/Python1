{
 "cells": [
  {
   "cell_type": "raw",
   "id": "0f919f95-3b59-4fca-8867-4371dd327e14",
   "metadata": {},
   "source": [
    "#simple calculator"
   ]
  },
  {
   "cell_type": "code",
   "execution_count": 8,
   "id": "29fd32a1-3ef7-4da8-ac3b-74678b356c7e",
   "metadata": {},
   "outputs": [
    {
     "name": "stdout",
     "output_type": "stream",
     "text": [
      "Welcome to a basic calculator\n"
     ]
    },
    {
     "name": "stdin",
     "output_type": "stream",
     "text": [
      "what operation do u want to perform:\n",
      " 1.Addition\n",
      " 2.Substraction\n",
      " 3.Multipication\n",
      " 4.Division\n",
      " 4\n",
      "Enter first number 10\n",
      "Enter second number 2\n"
     ]
    },
    {
     "name": "stdout",
     "output_type": "stream",
     "text": [
      "Division 5.0\n"
     ]
    }
   ],
   "source": [
    "#with if statements\n",
    "print(\"Welcome to a basic calculator\")\n",
    "op = int(input(\"what operation do u want to perform:\\n 1.Addition\\n 2.Substraction\\n 3.Multipication\\n 4.Division\\n\"))\n",
    "num1=float(input(\"Enter first number\"))\n",
    "num2=float(input(\"Enter second number\"))\n",
    "if (op==1):\n",
    "    print(\"Addition\",str(num1+num2))\n",
    "elif(op==2):\n",
    "    print(\"Substraction\",str(num1-num2))\n",
    "elif(op==3):\n",
    "    print(\"Multipication\",str(num1*num2))\n",
    "elif(op==4):\n",
    "    print(\"Division\",str(num1/num2))   "
   ]
  },
  {
   "cell_type": "code",
   "execution_count": null,
   "id": "a3d7f3d7-d7ee-442b-bbab-d0838482489e",
   "metadata": {},
   "outputs": [],
   "source": []
  }
 ],
 "metadata": {
  "kernelspec": {
   "display_name": "Python 3 (ipykernel)",
   "language": "python",
   "name": "python3"
  },
  "language_info": {
   "codemirror_mode": {
    "name": "ipython",
    "version": 3
   },
   "file_extension": ".py",
   "mimetype": "text/x-python",
   "name": "python",
   "nbconvert_exporter": "python",
   "pygments_lexer": "ipython3",
   "version": "3.12.7"
  }
 },
 "nbformat": 4,
 "nbformat_minor": 5
}
