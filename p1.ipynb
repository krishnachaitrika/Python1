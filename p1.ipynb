{
 "cells": [
  {
   "cell_type": "code",
   "execution_count": 3,
   "id": "c9e5c630-4f72-4a1d-9ea0-ecfaa03cb36a",
   "metadata": {},
   "outputs": [
    {
     "name": "stdin",
     "output_type": "stream",
     "text": [
      "Enter the number 8\n"
     ]
    },
    {
     "name": "stdout",
     "output_type": "stream",
     "text": [
      "the Factorial of 8 is 40320\n"
     ]
    }
   ],
   "source": [
    "#factorial \n",
    "n=int(input(\"Enter the number\"))\n",
    "fact=1\n",
    "for i in range(1,n+1):\n",
    "    fact *= i\n",
    "\n",
    "print(f\"the Factorial of {n} is {fact}\")"
   ]
  },
  {
   "cell_type": "code",
   "execution_count": 15,
   "id": "e40e3906-bec4-4591-a8f7-5e258c42fd43",
   "metadata": {},
   "outputs": [
    {
     "name": "stdin",
     "output_type": "stream",
     "text": [
      "Enter a number:  6\n"
     ]
    },
    {
     "name": "stdout",
     "output_type": "stream",
     "text": [
      "6 is a Even number\n"
     ]
    }
   ],
   "source": [
    "#Even and odd numbers\n",
    "x=int(input(\"Enter a number: \"))\n",
    "if (x%2==0):\n",
    "    print(f\"{x} is a Even number\")\n",
    "else:\n",
    "    print(f\"{x} is a Old number\")   "
   ]
  },
  {
   "cell_type": "code",
   "execution_count": 6,
   "id": "279874d9-c3e7-4055-a093-a8df1c27789c",
   "metadata": {},
   "outputs": [
    {
     "name": "stdin",
     "output_type": "stream",
     "text": [
      "Enter a number 24\n",
      "Enter another number 30\n"
     ]
    },
    {
     "name": "stdout",
     "output_type": "stream",
     "text": [
      "24 and 30 gcd is 6\n"
     ]
    }
   ],
   "source": [
    "#GCD-greatest common divisor\n",
    "def gcd(a,b):\n",
    "    if b==0:\n",
    "        return a\n",
    "    else:\n",
    "        return gcd(b,a%b)\n",
    "\n",
    "num1=int(input(\"Enter a number\"))\n",
    "num2=int(input(\"Enter another number\"))\n",
    "\n",
    "print(f\"{num1} and {num2} gcd is {gcd(num1,num2)}\")\n",
    "        "
   ]
  },
  {
   "cell_type": "code",
   "execution_count": 14,
   "id": "51970293-1e72-451c-bbe2-d770c9a1969d",
   "metadata": {},
   "outputs": [
    {
     "name": "stdout",
     "output_type": "stream",
     "text": [
      "34\n"
     ]
    }
   ],
   "source": [
    "#fibonacci series(there are many forms in that a simple ex)\n",
    "def Fibonacci(n):\n",
    "    if n < 0:\n",
    "        print(\"Incorrect input\")\n",
    "    elif n == 0:\n",
    "        return 0\n",
    "    elif n == 1 or n == 2:\n",
    "        return 1\n",
    "    else:\n",
    "        return Fibonacci(n-1) + Fibonacci(n-2)\n",
    "\n",
    "print(Fibonacci(9))"
   ]
  },
  {
   "cell_type": "code",
   "execution_count": 17,
   "id": "c20353d6-3e62-4b7a-bf27-b686653fcc01",
   "metadata": {},
   "outputs": [
    {
     "name": "stdin",
     "output_type": "stream",
     "text": [
      "Enter a number 8\n"
     ]
    },
    {
     "name": "stdout",
     "output_type": "stream",
     "text": [
      "8 is not a prime number\n"
     ]
    }
   ],
   "source": [
    "#Prime Number\n",
    "y=int(input(\"Enter a number\"))\n",
    "prime = False\n",
    "if y==0:\n",
    "    print(\"Ivalid\")\n",
    "elif y>1:\n",
    "    for i in range(2,y):\n",
    "        if (y%i==0):\n",
    "            prime = True \n",
    "            break\n",
    "\n",
    "if prime:\n",
    "    print(f\"{y} is not a prime number\")\n",
    "else:\n",
    "    print(f\"{y} is a prime number\")\n",
    "        "
   ]
  },
  {
   "cell_type": "code",
   "execution_count": null,
   "id": "e4fd17ae-5b76-48fa-b9df-ad6c23716718",
   "metadata": {},
   "outputs": [],
   "source": []
  }
 ],
 "metadata": {
  "kernelspec": {
   "display_name": "Python 3 (ipykernel)",
   "language": "python",
   "name": "python3"
  },
  "language_info": {
   "codemirror_mode": {
    "name": "ipython",
    "version": 3
   },
   "file_extension": ".py",
   "mimetype": "text/x-python",
   "name": "python",
   "nbconvert_exporter": "python",
   "pygments_lexer": "ipython3",
   "version": "3.12.7"
  }
 },
 "nbformat": 4,
 "nbformat_minor": 5
}
